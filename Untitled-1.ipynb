{
 "cells": [
  {
   "cell_type": "code",
   "execution_count": 1,
   "id": "393dbbd2",
   "metadata": {},
   "outputs": [],
   "source": [
    "import glob"
   ]
  },
  {
   "cell_type": "code",
   "execution_count": 9,
   "id": "c39f1144",
   "metadata": {},
   "outputs": [],
   "source": [
    "import os\n",
    "\n",
    "path = \"/home/hepl/Downloads/roi_only/blue/\"\n",
    "\n",
    "count = 1\n",
    "for i in  glob.glob(\"/home/hepl/Downloads/roi_only/silver/*.jpg\"):\n",
    "    os.rename(i,i.replace(os.path.basename(i),f\"roi_frame_{count}.jpg\"))\n",
    "    count+=1\n"
   ]
  },
  {
   "cell_type": "code",
   "execution_count": 10,
   "id": "3625620a",
   "metadata": {},
   "outputs": [],
   "source": [
    "m = glob.glob(\"/home/hepl/Downloads/roi_only/silver/*.jpg\")"
   ]
  },
  {
   "cell_type": "code",
   "execution_count": 11,
   "id": "39194e4a",
   "metadata": {},
   "outputs": [
    {
     "data": {
      "text/plain": [
       "['/home/hepl/Downloads/roi_only/silver/roi_frame_1.jpg']"
      ]
     },
     "execution_count": 11,
     "metadata": {},
     "output_type": "execute_result"
    }
   ],
   "source": [
    "m"
   ]
  },
  {
   "cell_type": "code",
   "execution_count": 3,
   "id": "730c0736",
   "metadata": {},
   "outputs": [],
   "source": [
    "import cv2\n",
    "def find_roi(frame):\n",
    "\n",
    "    img = cv2.imread(frame)\n",
    "    roi = cv2.selectROI(\"Select Region\", img, fromCenter=False, showCrosshair=True)\n",
    "    x, y, w, h = roi\n",
    "    print(f\"Selected region: (x={x}, y={y}, width={w}, height={h})\")\n"
   ]
  },
  {
   "cell_type": "code",
   "execution_count": null,
   "id": "6ff1dafb",
   "metadata": {},
   "outputs": [
    {
     "name": "stdout",
     "output_type": "stream",
     "text": [
      "Select a ROI and then press SPACE or ENTER button!\n",
      "Cancel the selection process by pressing c button!\n",
      "Selected region: (x=1359, y=528, width=327, height=448)\n"
     ]
    },
    {
     "ename": "",
     "evalue": "",
     "output_type": "error",
     "traceback": [
      "\u001b[1;31mThe Kernel crashed while executing code in the current cell or a previous cell. \n",
      "\u001b[1;31mPlease review the code in the cell(s) to identify a possible cause of the failure. \n",
      "\u001b[1;31mClick <a href='https://aka.ms/vscodeJupyterKernelCrash'>here</a> for more info. \n",
      "\u001b[1;31mView Jupyter <a href='command:jupyter.viewOutput'>log</a> for further details."
     ]
    }
   ],
   "source": [
    "find_roi(\"/home/hepl/Pictures/frames/frame_1.jpg\")"
   ]
  },
  {
   "cell_type": "code",
   "execution_count": 2,
   "id": "9d6f2a63",
   "metadata": {},
   "outputs": [
    {
     "data": {
      "text/plain": [
       "'4.10.0'"
      ]
     },
     "execution_count": 2,
     "metadata": {},
     "output_type": "execute_result"
    }
   ],
   "source": [
    "cv2.__version__"
   ]
  },
  {
   "cell_type": "code",
   "execution_count": 1,
   "id": "265864d4",
   "metadata": {},
   "outputs": [],
   "source": [
    "def process_images_in_folder(image_folder, output_folder, roi_value):\n",
    "\n",
    "    roi_dir = os.path.join(output_folder, \"roi_only\")\n",
    "    os.makedirs(roi_dir, exist_ok=True)\n",
    " \n",
    "    supported_exts = ('.jpg', '.jpeg', '.png')  \n",
    "    image_files = [f for f in os.listdir(image_folder) if f.lower().endswith(supported_exts)]\n",
    " \n",
    "    if not image_files:\n",
    "        print(\"No images found in the folder.\")\n",
    "        return\n",
    " \n",
    "    for idx, image_file in enumerate(sorted(image_files)):\n",
    "        image_path = os.path.join(image_folder, image_file)\n",
    "        frame = cv2.imread(image_path)\n",
    " \n",
    "        if frame is None:\n",
    "            print(f\"Failed to read image: {image_file}\")\n",
    "            continue\n",
    " \n",
    "        x, y, w, h = roi_value['x'], roi_value['y'], roi_value['width'], roi_value['height']\n",
    "        roi_frame = frame[y:y+h, x:x+w]\n",
    " \n",
    "        output_path = os.path.join(roi_dir, f\"roi_frame_{idx}.jpg\")\n",
    "        cv2.imwrite(output_path, roi_frame)\n",
    " \n",
    "    print(f\"Processed {len(image_files)} images and saved cropped ROIs to: {roi_dir}\")"
   ]
  },
  {
   "cell_type": "code",
   "execution_count": 3,
   "id": "194ac546",
   "metadata": {},
   "outputs": [
    {
     "name": "stderr",
     "output_type": "stream",
     "text": [
      "/tmp/ipykernel_6189/428648006.py:7: DeprecationWarning: listdir: path should be string, bytes, os.PathLike, integer or None, not ndarray\n",
      "  image_files = [f for f in os.listdir(image_folder) if f.lower().endswith(supported_exts)]\n"
     ]
    },
    {
     "ename": "ValueError",
     "evalue": "listdir: embedded null character in path",
     "output_type": "error",
     "traceback": [
      "\u001b[0;31m---------------------------------------------------------------------------\u001b[0m",
      "\u001b[0;31mValueError\u001b[0m                                Traceback (most recent call last)",
      "Cell \u001b[0;32mIn[3], line 21\u001b[0m\n\u001b[1;32m     19\u001b[0m \u001b[38;5;28;01mif\u001b[39;00m frame_count \u001b[38;5;241m%\u001b[39m fps \u001b[38;5;241m==\u001b[39m \u001b[38;5;241m0\u001b[39m:  \u001b[38;5;66;03m# Save one frame every 20 frames (1 second)\u001b[39;00m\n\u001b[1;32m     20\u001b[0m     filename \u001b[38;5;241m=\u001b[39m os\u001b[38;5;241m.\u001b[39mpath\u001b[38;5;241m.\u001b[39mjoin(output_folder, \u001b[38;5;124mf\u001b[39m\u001b[38;5;124m\"\u001b[39m\u001b[38;5;124mframe_\u001b[39m\u001b[38;5;132;01m{\u001b[39;00msaved_frame_index\u001b[38;5;132;01m:\u001b[39;00m\u001b[38;5;124m04d\u001b[39m\u001b[38;5;132;01m}\u001b[39;00m\u001b[38;5;124m.jpg\u001b[39m\u001b[38;5;124m\"\u001b[39m)\n\u001b[0;32m---> 21\u001b[0m     \u001b[43mprocess_images_in_folder\u001b[49m\u001b[43m(\u001b[49m\u001b[43mframe\u001b[49m\u001b[43m,\u001b[49m\u001b[43moutput_folder\u001b[49m\u001b[43m,\u001b[49m\u001b[43mroi_value\u001b[49m\u001b[43m)\u001b[49m\n\u001b[1;32m     22\u001b[0m     \u001b[38;5;28mprint\u001b[39m(\u001b[38;5;124m\"\u001b[39m\u001b[38;5;124msuccess\u001b[39m\u001b[38;5;124m\"\u001b[39m)\n\u001b[1;32m     23\u001b[0m     saved_frame_index \u001b[38;5;241m+\u001b[39m\u001b[38;5;241m=\u001b[39m \u001b[38;5;241m1\u001b[39m\n",
      "Cell \u001b[0;32mIn[1], line 7\u001b[0m, in \u001b[0;36mprocess_images_in_folder\u001b[0;34m(image_folder, output_folder, roi_value)\u001b[0m\n\u001b[1;32m      4\u001b[0m os\u001b[38;5;241m.\u001b[39mmakedirs(roi_dir, exist_ok\u001b[38;5;241m=\u001b[39m\u001b[38;5;28;01mTrue\u001b[39;00m)\n\u001b[1;32m      6\u001b[0m supported_exts \u001b[38;5;241m=\u001b[39m (\u001b[38;5;124m'\u001b[39m\u001b[38;5;124m.jpg\u001b[39m\u001b[38;5;124m'\u001b[39m, \u001b[38;5;124m'\u001b[39m\u001b[38;5;124m.jpeg\u001b[39m\u001b[38;5;124m'\u001b[39m, \u001b[38;5;124m'\u001b[39m\u001b[38;5;124m.png\u001b[39m\u001b[38;5;124m'\u001b[39m)  \n\u001b[0;32m----> 7\u001b[0m image_files \u001b[38;5;241m=\u001b[39m [f \u001b[38;5;28;01mfor\u001b[39;00m f \u001b[38;5;129;01min\u001b[39;00m \u001b[43mos\u001b[49m\u001b[38;5;241;43m.\u001b[39;49m\u001b[43mlistdir\u001b[49m\u001b[43m(\u001b[49m\u001b[43mimage_folder\u001b[49m\u001b[43m)\u001b[49m \u001b[38;5;28;01mif\u001b[39;00m f\u001b[38;5;241m.\u001b[39mlower()\u001b[38;5;241m.\u001b[39mendswith(supported_exts)]\n\u001b[1;32m      9\u001b[0m \u001b[38;5;28;01mif\u001b[39;00m \u001b[38;5;129;01mnot\u001b[39;00m image_files:\n\u001b[1;32m     10\u001b[0m     \u001b[38;5;28mprint\u001b[39m(\u001b[38;5;124m\"\u001b[39m\u001b[38;5;124mNo images found in the folder.\u001b[39m\u001b[38;5;124m\"\u001b[39m)\n",
      "\u001b[0;31mValueError\u001b[0m: listdir: embedded null character in path"
     ]
    }
   ],
   "source": [
    "import cv2\n",
    "import os\n",
    "roi_value = {'x':1359, 'y':528, 'width':327, 'height':448}\n",
    "video_path = '/home/hepl/Downloads/103.168.199.92_001_OVER ALL_S20250403085349_E20250403085400.ts'\n",
    "output_folder = '/home/hepl/Pictures/frames__'\n",
    "os.makedirs(output_folder, exist_ok=True)\n",
    "\n",
    "cap = cv2.VideoCapture(video_path)\n",
    "\n",
    "fps = int(cap.get(cv2.CAP_PROP_FPS))  # Should be 20 in your case\n",
    "frame_count = 0\n",
    "saved_frame_index = 0\n",
    "\n",
    "while True:\n",
    "    ret, frame = cap.read()\n",
    "    if not ret:\n",
    "        break\n",
    "\n",
    "    if frame_count % fps == 0:  # Save one frame every 20 frames (1 second)\n",
    "        filename = os.path.join(output_folder, f\"frame_{saved_frame_index:04d}.jpg\")\n",
    "        process_images_in_folder(frame,output_folder,roi_value)\n",
    "        print(\"success\")\n",
    "        saved_frame_index += 1\n",
    "\n",
    "    frame_count += 1\n",
    "\n",
    "cap.release()\n",
    "print(\"Finished extracting 1 frame per second.\")\n",
    "\n",
    "\n",
    " \n",
    "\n"
   ]
  },
  {
   "cell_type": "code",
   "execution_count": null,
   "id": "5e6918d9",
   "metadata": {},
   "outputs": [],
   "source": [
    "import cv2\n",
    "import os\n",
    "\n",
    "# ROI values\n",
    "roi_value = {'x': 1359, 'y': 528, 'width': 327, 'height': 448}\n",
    "\n",
    "# Video input\n",
    "video_path = '/home/hepl/Downloads/103.168.199.92_001_OVER ALL_S20250403085349_E20250403085400.ts'\n",
    "\n",
    "# Output folder for cropped ROI frames\n",
    "output_folder = '/home/hepl/Pictures/frames__/roi_only'\n",
    "os.makedirs(output_folder, exist_ok=True)\n",
    "\n",
    "# Open the video\n",
    "cap = cv2.VideoCapture(video_path)\n",
    "fps = int(cap.get(cv2.CAP_PROP_FPS))  # Expected: 20 FPS\n",
    "\n",
    "frame_count = 0\n",
    "saved_frame_index = 0\n",
    "\n",
    "while True:\n",
    "    ret, frame = cap.read()\n",
    "    if not ret:\n",
    "        break\n",
    "\n",
    "    if frame_count % fps == 0:  # 1 frame per second\n",
    "        x, y, w, h = roi_value['x'], roi_value['y'], roi_value['width'], roi_value['height']\n",
    "        roi_frame = frame[y:y+h, x:x+w]\n",
    "\n",
    "        roi_filename = os.path.join(output_folder, f\"roi_frame_{saved_frame_index:04d}.jpg\")\n",
    "        cv2.imwrite(roi_filename, roi_frame)\n",
    "        print(f\"Saved: {roi_filename}\")\n",
    "        saved_frame_index += 1\n",
    "\n",
    "    frame_count += 1\n",
    "\n",
    "cap.release()\n",
    "print(\"Finished extracting and saving ROI frames.\")\n"
   ]
  },
  {
   "cell_type": "code",
   "execution_count": 59,
   "id": "7c0caae5",
   "metadata": {},
   "outputs": [],
   "source": [
    "import os\n",
    "import cv2\n",
    "\n",
    " \n",
    "def process_images_in_folder(image_folder, output_folder, roi_value):\n",
    "    os.makedirs(output_folder, exist_ok=True)\n",
    "    roi_dir = os.path.join(output_folder, \"roi_only\")\n",
    "    os.makedirs(roi_dir, exist_ok=True)\n",
    " \n",
    "    supported_exts = ('.jpg', '.jpeg', '.png')  \n",
    "    image_files = [f for f in os.listdir(image_folder) if f.lower().endswith(supported_exts)]\n",
    " \n",
    "    if not image_files:\n",
    "        print(\"No images found in the folder.\")\n",
    "        return\n",
    " \n",
    "    for idx, image_file in enumerate(sorted(image_files)):\n",
    "        image_path = os.path.join(image_folder, image_file)\n",
    "        frame = cv2.imread(image_path)\n",
    " \n",
    "        if frame is None:\n",
    "            print(f\"Failed to read image: {image_file}\")\n",
    "            continue\n",
    " \n",
    "        x, y, w, h = roi_value['x'], roi_value['y'], roi_value['width'], roi_value['height']\n",
    "        roi_frame = frame[y:y+h, x:x+w]\n",
    " \n",
    "        output_path = os.path.join(roi_dir, f\"roi_frame_{idx}.jpg\")\n",
    "        cv2.imwrite(output_path, roi_frame)\n",
    " \n",
    "    print(f\"Processed {len(image_files)} images and saved cropped ROIs to: {roi_dir}\")"
   ]
  },
  {
   "cell_type": "code",
   "execution_count": 60,
   "id": "64aac1eb",
   "metadata": {},
   "outputs": [
    {
     "name": "stdout",
     "output_type": "stream",
     "text": [
      "Processed 12 images and saved cropped ROIs to: /home/hepl/Pictures/img_1/roi_only\n"
     ]
    }
   ],
   "source": [
    "\n",
    "image_folder = r'/home/hepl/Pictures/frames/'\n",
    "output_folder = r'/home/hepl/Pictures/img_1/'\n",
    "roi_value = {'x':1359, 'y':528, 'width':327, 'height':448}\n",
    " \n",
    "process_images_in_folder(image_folder, output_folder, roi_value)"
   ]
  },
  {
   "cell_type": "code",
   "execution_count": 27,
   "id": "2eebfc4e",
   "metadata": {},
   "outputs": [
    {
     "name": "stdout",
     "output_type": "stream",
     "text": [
      "{'q': 3, 'w': 2, 'e': 2, 'b': 1, 'p': 1}\n"
     ]
    }
   ],
   "source": [
    "a = ['qwebq','pqew']\n",
    "\n",
    "d = {}\n",
    "for i in a:\n",
    "    for j in i:\n",
    "        if j in d:\n",
    "            d[j] += 1\n",
    "        else:\n",
    "            d[j] = 1\n",
    "\n",
    "        \n",
    "\n",
    "\n",
    "# q = 3, w =2, b=1,p=1\n",
    "print(d)"
   ]
  },
  {
   "cell_type": "code",
   "execution_count": 18,
   "id": "d89dfa21",
   "metadata": {},
   "outputs": [],
   "source": [
    "a = ['qwebq','pqew']\n",
    "# c = 0\n",
    "d = {}\n",
    "for i in range(len(a)):\n",
    "    if a[i][i] in d:\n",
    "        d[a[i][i]]+=1\n",
    "    else:\n",
    "        d[a[i][i]]=1\n",
    "\n",
    "    \n",
    "# c = c+1\n",
    "    \n",
    "\n"
   ]
  },
  {
   "cell_type": "code",
   "execution_count": 19,
   "id": "4f9b8c86",
   "metadata": {},
   "outputs": [
    {
     "data": {
      "text/plain": [
       "{'q': 2}"
      ]
     },
     "execution_count": 19,
     "metadata": {},
     "output_type": "execute_result"
    }
   ],
   "source": [
    "d"
   ]
  },
  {
   "cell_type": "code",
   "execution_count": null,
   "id": "8df0e9a4",
   "metadata": {},
   "outputs": [
    {
     "name": "stdout",
     "output_type": "stream",
     "text": [
      "{'q': 2, 'w': 1, 'e': 1, 'b': 1}\n",
      "{'q': 1, 'w': 1, 'e': 1, 'b': 1, 'p': 1}\n"
     ]
    }
   ],
   "source": [
    "from collections import Counter\n",
    "n = {}\n",
    "\n",
    "a = ['qwebq','pqew']\n",
    "\n",
    "for i in iter(a):\n",
    "    l = iter(i)\n",
    "    x = Counter(l)\n",
    "     \n",
    "    n.update(x)\n",
    "    print(n)\n",
    "   "
   ]
  },
  {
   "cell_type": "code",
   "execution_count": 51,
   "id": "7867ec19",
   "metadata": {},
   "outputs": [
    {
     "data": {
      "text/plain": [
       "{'q': 1, 'w': 1, 'e': 1, 'b': 1, 'p': 1}"
      ]
     },
     "execution_count": 51,
     "metadata": {},
     "output_type": "execute_result"
    }
   ],
   "source": [
    "n"
   ]
  },
  {
   "cell_type": "code",
   "execution_count": null,
   "id": "d6f511ad",
   "metadata": {},
   "outputs": [],
   "source": [
    "a= {'q': 2, 'w': 1, 'e': 1, 'b': 1}\n",
    "b = {'p': 1, 'q': 1, 'e': 1, 'w': 1}\n",
    "\n",
    "\n",
    "\n"
   ]
  },
  {
   "cell_type": "code",
   "execution_count": 23,
   "id": "6bf23e0e",
   "metadata": {},
   "outputs": [
    {
     "data": {
      "text/plain": [
       "[('q', 'p'), ('w', 'q'), ('e', 'e'), ('b', 'w')]"
      ]
     },
     "execution_count": 23,
     "metadata": {},
     "output_type": "execute_result"
    }
   ],
   "source": [
    "list(n)"
   ]
  },
  {
   "cell_type": "code",
   "execution_count": null,
   "id": "6d040b5a",
   "metadata": {},
   "outputs": [
    {
     "data": {
      "text/plain": [
       "<list_iterator at 0x72fc5c361f60>"
      ]
     },
     "execution_count": 17,
     "metadata": {},
     "output_type": "execute_result"
    }
   ],
   "source": [
    "a = ['qwebq','pqew']\n",
    "l = iter(a)\n",
    "\n",
    "next(l)\n",
    "next(l)"
   ]
  },
  {
   "cell_type": "code",
   "execution_count": 53,
   "id": "a737d9fe",
   "metadata": {},
   "outputs": [],
   "source": [
    "d1 = {'x': 1, 'y': 2}\n",
    "d2 = {'y': 3, 'z': 4}\n",
    "\n",
    "d3 = d1.copy()\n",
    "for key in d2:\n",
    "    # print(key)\n",
    "    if key in d3:\n",
    "        d3[key] += d2[key]\n",
    "    else:\n",
    "        d3[key] = d2[key]"
   ]
  },
  {
   "cell_type": "code",
   "execution_count": 54,
   "id": "f187eb46",
   "metadata": {},
   "outputs": [
    {
     "data": {
      "text/plain": [
       "{'x': 1, 'y': 5, 'z': 4}"
      ]
     },
     "execution_count": 54,
     "metadata": {},
     "output_type": "execute_result"
    }
   ],
   "source": [
    "d3"
   ]
  },
  {
   "cell_type": "code",
   "execution_count": 38,
   "id": "679c1b14",
   "metadata": {},
   "outputs": [
    {
     "data": {
      "text/plain": [
       "{'x': None, 'y': None}"
      ]
     },
     "execution_count": 38,
     "metadata": {},
     "output_type": "execute_result"
    }
   ],
   "source": [
    "d3.fromkeys(d3)"
   ]
  },
  {
   "cell_type": "code",
   "execution_count": 47,
   "id": "4fe2f8d2",
   "metadata": {},
   "outputs": [
    {
     "data": {
      "text/plain": [
       "{'t': None, 's': None, 'u': None}"
      ]
     },
     "execution_count": 47,
     "metadata": {},
     "output_type": "execute_result"
    }
   ],
   "source": [
    "d1={}\n",
    "d1.fromkeys((\"t\", \"s\", \"u\"))"
   ]
  },
  {
   "cell_type": "code",
   "execution_count": 12,
   "id": "5d1ed4a1",
   "metadata": {},
   "outputs": [],
   "source": [
    "import pandas as pd"
   ]
  },
  {
   "cell_type": "code",
   "execution_count": 15,
   "id": "b781b2c1",
   "metadata": {},
   "outputs": [
    {
     "data": {
      "text/html": [
       "<div>\n",
       "<style scoped>\n",
       "    .dataframe tbody tr th:only-of-type {\n",
       "        vertical-align: middle;\n",
       "    }\n",
       "\n",
       "    .dataframe tbody tr th {\n",
       "        vertical-align: top;\n",
       "    }\n",
       "\n",
       "    .dataframe thead th {\n",
       "        text-align: right;\n",
       "    }\n",
       "</style>\n",
       "<table border=\"1\" class=\"dataframe\">\n",
       "  <thead>\n",
       "    <tr style=\"text-align: right;\">\n",
       "      <th></th>\n",
       "      <th>id</th>\n",
       "      <th>value</th>\n",
       "    </tr>\n",
       "  </thead>\n",
       "  <tbody>\n",
       "    <tr>\n",
       "      <th>0</th>\n",
       "      <td>1</td>\n",
       "      <td>20</td>\n",
       "    </tr>\n",
       "    <tr>\n",
       "      <th>1</th>\n",
       "      <td>2</td>\n",
       "      <td>10</td>\n",
       "    </tr>\n",
       "  </tbody>\n",
       "</table>\n",
       "</div>"
      ],
      "text/plain": [
       "   id  value\n",
       "0   1     20\n",
       "1   2     10"
      ]
     },
     "execution_count": 15,
     "metadata": {},
     "output_type": "execute_result"
    }
   ],
   "source": [
    "data1 = {\n",
    "    \"id\":[1,2],\n",
    "    \"value\":[20,10]\n",
    "}\n",
    "data2 = {\n",
    "    \"id\":[1,3],\n",
    "    \"value\":[30,40]\n",
    "}\n",
    "\n",
    "df1 = pd.DataFrame(data1)\n",
    "df2 = pd.DataFrame(data2)\n",
    "df1"
   ]
  },
  {
   "cell_type": "code",
   "execution_count": 16,
   "id": "b85528b3",
   "metadata": {},
   "outputs": [
    {
     "data": {
      "text/html": [
       "<div>\n",
       "<style scoped>\n",
       "    .dataframe tbody tr th:only-of-type {\n",
       "        vertical-align: middle;\n",
       "    }\n",
       "\n",
       "    .dataframe tbody tr th {\n",
       "        vertical-align: top;\n",
       "    }\n",
       "\n",
       "    .dataframe thead th {\n",
       "        text-align: right;\n",
       "    }\n",
       "</style>\n",
       "<table border=\"1\" class=\"dataframe\">\n",
       "  <thead>\n",
       "    <tr style=\"text-align: right;\">\n",
       "      <th></th>\n",
       "      <th>id</th>\n",
       "      <th>value</th>\n",
       "    </tr>\n",
       "  </thead>\n",
       "  <tbody>\n",
       "    <tr>\n",
       "      <th>0</th>\n",
       "      <td>1</td>\n",
       "      <td>30</td>\n",
       "    </tr>\n",
       "    <tr>\n",
       "      <th>1</th>\n",
       "      <td>3</td>\n",
       "      <td>40</td>\n",
       "    </tr>\n",
       "  </tbody>\n",
       "</table>\n",
       "</div>"
      ],
      "text/plain": [
       "   id  value\n",
       "0   1     30\n",
       "1   3     40"
      ]
     },
     "execution_count": 16,
     "metadata": {},
     "output_type": "execute_result"
    }
   ],
   "source": [
    "df2"
   ]
  },
  {
   "cell_type": "code",
   "execution_count": 25,
   "id": "16592e08",
   "metadata": {},
   "outputs": [],
   "source": [
    "df = df1.merge(df2, how=\"inner\")"
   ]
  },
  {
   "cell_type": "code",
   "execution_count": 26,
   "id": "22b0ddbf",
   "metadata": {},
   "outputs": [
    {
     "data": {
      "text/html": [
       "<div>\n",
       "<style scoped>\n",
       "    .dataframe tbody tr th:only-of-type {\n",
       "        vertical-align: middle;\n",
       "    }\n",
       "\n",
       "    .dataframe tbody tr th {\n",
       "        vertical-align: top;\n",
       "    }\n",
       "\n",
       "    .dataframe thead th {\n",
       "        text-align: right;\n",
       "    }\n",
       "</style>\n",
       "<table border=\"1\" class=\"dataframe\">\n",
       "  <thead>\n",
       "    <tr style=\"text-align: right;\">\n",
       "      <th></th>\n",
       "      <th>id</th>\n",
       "      <th>value</th>\n",
       "    </tr>\n",
       "  </thead>\n",
       "  <tbody>\n",
       "  </tbody>\n",
       "</table>\n",
       "</div>"
      ],
      "text/plain": [
       "Empty DataFrame\n",
       "Columns: [id, value]\n",
       "Index: []"
      ]
     },
     "execution_count": 26,
     "metadata": {},
     "output_type": "execute_result"
    }
   ],
   "source": [
    "df"
   ]
  },
  {
   "cell_type": "code",
   "execution_count": null,
   "id": "880e262b",
   "metadata": {},
   "outputs": [],
   "source": [
    "import logging\n",
    "from ultralytics import YOLO\n",
    "from ultralytics.utils.plotting import Annotator\n",
    "import cv2\n",
    "import urllib.parse\n",
    "import time\n",
    "import pandas as pd\n",
    "import os\n",
    "import numpy as np\n",
    "import easyocr\n",
    "import re\n",
    "from datetime import datetime, timedelta\n",
    "import json\n",
    "\n",
    "\n",
    "\n",
    "\n",
    "\n",
    "\n",
    "\n",
    "model = YOLO(\"yolov8n.pt\")\n",
    "ip_address = {\"Kannakurukai\":\"103.168.199.92\", \"Kukudupatti\":\"38.188.181.29\"}\n",
    "\n",
    "class Process:\n",
    "\n",
    "    def unv_url(self, username, password, ip, port, channel, start_time, end_time):\n",
    "        encoded_password = urllib.parse.quote(password)\n",
    "\n",
    "        rtsp_url = (f\"rtsp://{username}:{encoded_password}@{ip}:{port}/\"\n",
    "                    f\"c{channel}/b{start_time}/e{end_time}/replay/\")\n",
    "        \n",
    "        print(f\"Connecting to recorded video at {start_time}\")\n",
    "        # logging.info(f\"URL: {rtsp_url}\")\n",
    "        return rtsp_url\n",
    "\n",
    "    def datetime_to_unix_timestamp(self, dt):\n",
    "        \"\"\"\n",
    "        Convert a datetime object to a Unix timestamp (seconds since Jan 1, 1970 UTC).\n",
    "\n",
    "        Parameters:\n",
    "        dt (datetime): The datetime object to convert\n",
    "\n",
    "        Returns:\n",
    "        int: Unix timestamp (seconds since epoch)\n",
    "        \"\"\"\n",
    "        return int(dt.timestamp())\n",
    "\n",
    "    def save_first_frame_with_person(self, username, password, ip, port, channel,\n",
    "                                     start_time, end_time, formatted_date, output_folder, conf_threshold=0.9):\n",
    "        print(\"Starting to process video frames...\")\n",
    "        os.makedirs(output_folder, exist_ok=True)\n",
    "\n",
    "        while True:\n",
    "            start_time_stamp = self.datetime_to_unix_timestamp(start_time)\n",
    "            end_time_stamp = self.datetime_to_unix_timestamp(end_time)\n",
    "\n",
    "            video_path = self.unv_url(username, password, ip, port, channel, start_time_stamp, end_time_stamp)\n",
    "            cap = cv2.VideoCapture(video_path)\n",
    "\n",
    "            if not cap.isOpened():\n",
    "                print(f\"Stream not available for {start_time.strftime('%H:%M:%S')}, trying next second...\")\n",
    "                start_time += timedelta(seconds=1)\n",
    "                cap.release()\n",
    "            else:\n",
    "                print(f\"Stream available at {start_time.strftime('%H:%M:%S')}\")\n",
    "                break\n",
    "\n",
    "        frame_count = 0\n",
    "        saved_frame = False\n",
    "        fail_count = 0\n",
    "        max_retries = 5\n",
    "\n",
    "        while cap.isOpened():\n",
    "            ret, frame = cap.read()\n",
    "            \n",
    "            if not ret:\n",
    "                fail_count += 1\n",
    "                print(f\"Failed to read frame ({fail_count}/{max_retries})\")\n",
    "                if fail_count >= max_retries:\n",
    "                    print(\"Stream failed repeatedly, exiting...\")\n",
    "                    break\n",
    "                time.sleep(2)\n",
    "                continue\n",
    "\n",
    "            fail_count = 0\n",
    "            frame_count += 1\n",
    "            results = model(frame, verbose=False)\n",
    "            for result in results:\n",
    "                boxes = result.boxes\n",
    "                for box in boxes:\n",
    "                    cls = int(box.cls.item())\n",
    "                    conf = box.conf.item()\n",
    "                    xyxy = box.xyxy[0].cpu().numpy().astype(int)\n",
    "\n",
    "                    if cls == 0 and conf > conf_threshold:\n",
    "                        full_frame = frame.copy()\n",
    "                        cv2.rectangle(full_frame, (xyxy[0], xyxy[1]), (xyxy[2], xyxy[3]), (0, 255, 0), 2)\n",
    "                        cv2.putText(full_frame, f\"Person {conf:.2f}\", (xyxy[0], xyxy[1] - 10),\n",
    "                                    cv2.FONT_HERSHEY_SIMPLEX, 0.5, (0, 255, 0), 2)\n",
    "                        \n",
    "                        full_frame_path = os.path.join(output_folder, f\"{formatted_date}.jpg\")\n",
    "                        cv2.imwrite(full_frame_path, full_frame)\n",
    "                        # cv2.imshow(\"Annotated Frame\", full_frame)\n",
    "                        # cv2.waitKey(0)  # Wait indefinitely for a key press\n",
    "                        # cv2.destroyAllWindows()\n",
    "\n",
    "                        saved_frame = True\n",
    "                        break\n",
    "\n",
    "\n",
    "                if saved_frame:\n",
    "                    break\n",
    "            \n",
    "            if saved_frame:\n",
    "                break\n",
    "\n",
    "        cap.release()\n",
    "        \n",
    "\n",
    "\n",
    "def main(_ip):\n",
    "    obj = Process()  \n",
    "    ip = _ip\n",
    "\n",
    "    for i in range(22, 23):\n",
    "        start_time = datetime(2025, 4, i, 6, 5, 0)\n",
    "        end_time = datetime(2025, 4, i, 7, 20, 0)\n",
    "\n",
    "        env_startime = datetime(2025, 4, i, 17, 30, 0)\n",
    "        env_end_time = datetime(2025, 4, i, 19, 0, 0)\n",
    "\n",
    "        formatted_date = start_time.strftime(\"%d-%m-%Y\")\n",
    "        logging.info(f\"Processing date: {formatted_date}\")\n",
    "        \n",
    "        AM_result = None\n",
    "        PM_result = None\n",
    "        today = datetime.now()\n",
    "\n",
    "        man_detect = obj.save_first_frame_with_person(username, password, ip, port, channel, start_time, end_time, formatted_date, output_folder=\"kuku_AM\")\n",
    "        man_detect_2 = obj.save_first_frame_with_person(username, password, ip, port, channel, env_startime, env_end_time, formatted_date, output_folder=\"kuku_PM\")\n",
    "\n",
    "\n",
    "        if man_detect_2 != \"No person detected in the video.\":\n",
    "            try:\n",
    "                extract_date_2 = obj.person_enter(f\"kuku_PM/{formatted_date}.jpg\")\n",
    "                pm_value = extract_date_2 if extract_date_2 else \"Failed to extract_2\"\n",
    "                pm_buffer_timing = \"18:30:00\"\n",
    "                pm_buffer_str = datetime.strptime(pm_buffer_timing, \"%H:%M:%S\")\n",
    "                before_30mins_pm = pm_buffer_str - timedelta(minutes=30)\n",
    "                time_before_30mins_pm = before_30mins_pm.strftime(\"%H:%M:%S\")\n",
    "                if time_before_30mins_pm >= pm_value:\n",
    "                    PM_result = \"YES\"\n",
    "                else:\n",
    "                    PM_result = \"NO\"\n",
    "            except Exception as e:\n",
    "                print(f\"Error processing PM frame for {formatted_date}: {e}\")\n",
    "                pm_value = \"person_enter failed\"\n",
    "\n",
    "\n",
    "    return(\"AM===========>\",AM_result,\"PM========>\",PM_result)  \n",
    "\n",
    "print(\"====Process done====\")\n",
    "\n",
    "# def py_to_mongo():\n",
    "#     # client = pymongo.MongoClient(\"mongodb://localhost:27017/\")\n",
    "#     db = client['va_automation']\n",
    "#     collection = db['nc_01']\n",
    "\n",
    "#     with open('testing_data') as file:\n",
    "#         file_data = json.load(file)\n",
    "#     collection.insert_many(file_data)\n",
    "#     print(\"data insertion completed\")\n",
    "#     client.close()\n",
    "\n",
    "\n",
    "if __name__ == \"__main__\":\n",
    "    obj = Process() \n",
    "    username = \"admin\"\n",
    "    password = \"rmc@12345\"  \n",
    "    port = \"554\"\n",
    "    channel = 1  \n",
    "    main(ip_address[\"Kukudupatti\"])\n",
    "    #py_to_mongo()\n",
    "    print(\"====== 0Nc_01 completed ========\")\n",
    "   \n"
   ]
  },
  {
   "cell_type": "code",
   "execution_count": null,
   "id": "a6231bdc",
   "metadata": {},
   "outputs": [
    {
     "ename": "AttributeError",
     "evalue": "module 'torch' has no attribute 'load'",
     "output_type": "error",
     "traceback": [
      "\u001b[0;31m---------------------------------------------------------------------------\u001b[0m",
      "\u001b[0;31mAttributeError\u001b[0m                            Traceback (most recent call last)",
      "Cell \u001b[0;32mIn[1], line 1\u001b[0m\n\u001b[0;32m----> 1\u001b[0m \u001b[38;5;28;01mfrom\u001b[39;00m\u001b[38;5;250m \u001b[39m\u001b[38;5;21;01multralytics\u001b[39;00m\u001b[38;5;250m \u001b[39m\u001b[38;5;28;01mimport\u001b[39;00m YOLO\n\u001b[1;32m      2\u001b[0m \u001b[38;5;28;01mfrom\u001b[39;00m\u001b[38;5;250m \u001b[39m\u001b[38;5;21;01multralytics\u001b[39;00m\u001b[38;5;21;01m.\u001b[39;00m\u001b[38;5;21;01mutils\u001b[39;00m\u001b[38;5;21;01m.\u001b[39;00m\u001b[38;5;21;01mplotting\u001b[39;00m\u001b[38;5;250m \u001b[39m\u001b[38;5;28;01mimport\u001b[39;00m Annotator\n\u001b[1;32m      3\u001b[0m \u001b[38;5;28;01mimport\u001b[39;00m\u001b[38;5;250m \u001b[39m\u001b[38;5;21;01mcv2\u001b[39;00m\n",
      "File \u001b[0;32m~/Desktop/New_Folder/Keerthanaa/Keerthii/MAR_2025/VA_research_task/NCS/NC_00/nc_env/lib/python3.10/site-packages/ultralytics/__init__.py:11\u001b[0m\n\u001b[1;32m      8\u001b[0m \u001b[38;5;28;01mif\u001b[39;00m \u001b[38;5;129;01mnot\u001b[39;00m os\u001b[38;5;241m.\u001b[39menviron\u001b[38;5;241m.\u001b[39mget(\u001b[38;5;124m\"\u001b[39m\u001b[38;5;124mOMP_NUM_THREADS\u001b[39m\u001b[38;5;124m\"\u001b[39m):\n\u001b[1;32m      9\u001b[0m     os\u001b[38;5;241m.\u001b[39menviron[\u001b[38;5;124m\"\u001b[39m\u001b[38;5;124mOMP_NUM_THREADS\u001b[39m\u001b[38;5;124m\"\u001b[39m] \u001b[38;5;241m=\u001b[39m \u001b[38;5;124m\"\u001b[39m\u001b[38;5;124m1\u001b[39m\u001b[38;5;124m\"\u001b[39m  \u001b[38;5;66;03m# default for reduced CPU utilization during training\u001b[39;00m\n\u001b[0;32m---> 11\u001b[0m \u001b[38;5;28;01mfrom\u001b[39;00m\u001b[38;5;250m \u001b[39m\u001b[38;5;21;01multralytics\u001b[39;00m\u001b[38;5;21;01m.\u001b[39;00m\u001b[38;5;21;01mmodels\u001b[39;00m\u001b[38;5;250m \u001b[39m\u001b[38;5;28;01mimport\u001b[39;00m NAS, RTDETR, SAM, YOLO, YOLOE, FastSAM, YOLOWorld\n\u001b[1;32m     12\u001b[0m \u001b[38;5;28;01mfrom\u001b[39;00m\u001b[38;5;250m \u001b[39m\u001b[38;5;21;01multralytics\u001b[39;00m\u001b[38;5;21;01m.\u001b[39;00m\u001b[38;5;21;01mutils\u001b[39;00m\u001b[38;5;250m \u001b[39m\u001b[38;5;28;01mimport\u001b[39;00m ASSETS, SETTINGS\n\u001b[1;32m     13\u001b[0m \u001b[38;5;28;01mfrom\u001b[39;00m\u001b[38;5;250m \u001b[39m\u001b[38;5;21;01multralytics\u001b[39;00m\u001b[38;5;21;01m.\u001b[39;00m\u001b[38;5;21;01mutils\u001b[39;00m\u001b[38;5;21;01m.\u001b[39;00m\u001b[38;5;21;01mchecks\u001b[39;00m\u001b[38;5;250m \u001b[39m\u001b[38;5;28;01mimport\u001b[39;00m check_yolo \u001b[38;5;28;01mas\u001b[39;00m checks\n",
      "File \u001b[0;32m~/Desktop/New_Folder/Keerthanaa/Keerthii/MAR_2025/VA_research_task/NCS/NC_00/nc_env/lib/python3.10/site-packages/ultralytics/models/__init__.py:3\u001b[0m\n\u001b[1;32m      1\u001b[0m \u001b[38;5;66;03m# Ultralytics 🚀 AGPL-3.0 License - https://ultralytics.com/license\u001b[39;00m\n\u001b[0;32m----> 3\u001b[0m \u001b[38;5;28;01mfrom\u001b[39;00m\u001b[38;5;250m \u001b[39m\u001b[38;5;21;01m.\u001b[39;00m\u001b[38;5;21;01mfastsam\u001b[39;00m\u001b[38;5;250m \u001b[39m\u001b[38;5;28;01mimport\u001b[39;00m FastSAM\n\u001b[1;32m      4\u001b[0m \u001b[38;5;28;01mfrom\u001b[39;00m\u001b[38;5;250m \u001b[39m\u001b[38;5;21;01m.\u001b[39;00m\u001b[38;5;21;01mnas\u001b[39;00m\u001b[38;5;250m \u001b[39m\u001b[38;5;28;01mimport\u001b[39;00m NAS\n\u001b[1;32m      5\u001b[0m \u001b[38;5;28;01mfrom\u001b[39;00m\u001b[38;5;250m \u001b[39m\u001b[38;5;21;01m.\u001b[39;00m\u001b[38;5;21;01mrtdetr\u001b[39;00m\u001b[38;5;250m \u001b[39m\u001b[38;5;28;01mimport\u001b[39;00m RTDETR\n",
      "File \u001b[0;32m~/Desktop/New_Folder/Keerthanaa/Keerthii/MAR_2025/VA_research_task/NCS/NC_00/nc_env/lib/python3.10/site-packages/ultralytics/models/fastsam/__init__.py:3\u001b[0m\n\u001b[1;32m      1\u001b[0m \u001b[38;5;66;03m# Ultralytics 🚀 AGPL-3.0 License - https://ultralytics.com/license\u001b[39;00m\n\u001b[0;32m----> 3\u001b[0m \u001b[38;5;28;01mfrom\u001b[39;00m\u001b[38;5;250m \u001b[39m\u001b[38;5;21;01m.\u001b[39;00m\u001b[38;5;21;01mmodel\u001b[39;00m\u001b[38;5;250m \u001b[39m\u001b[38;5;28;01mimport\u001b[39;00m FastSAM\n\u001b[1;32m      4\u001b[0m \u001b[38;5;28;01mfrom\u001b[39;00m\u001b[38;5;250m \u001b[39m\u001b[38;5;21;01m.\u001b[39;00m\u001b[38;5;21;01mpredict\u001b[39;00m\u001b[38;5;250m \u001b[39m\u001b[38;5;28;01mimport\u001b[39;00m FastSAMPredictor\n\u001b[1;32m      5\u001b[0m \u001b[38;5;28;01mfrom\u001b[39;00m\u001b[38;5;250m \u001b[39m\u001b[38;5;21;01m.\u001b[39;00m\u001b[38;5;21;01mval\u001b[39;00m\u001b[38;5;250m \u001b[39m\u001b[38;5;28;01mimport\u001b[39;00m FastSAMValidator\n",
      "File \u001b[0;32m~/Desktop/New_Folder/Keerthanaa/Keerthii/MAR_2025/VA_research_task/NCS/NC_00/nc_env/lib/python3.10/site-packages/ultralytics/models/fastsam/model.py:5\u001b[0m\n\u001b[1;32m      1\u001b[0m \u001b[38;5;66;03m# Ultralytics 🚀 AGPL-3.0 License - https://ultralytics.com/license\u001b[39;00m\n\u001b[1;32m      3\u001b[0m \u001b[38;5;28;01mfrom\u001b[39;00m\u001b[38;5;250m \u001b[39m\u001b[38;5;21;01mpathlib\u001b[39;00m\u001b[38;5;250m \u001b[39m\u001b[38;5;28;01mimport\u001b[39;00m Path\n\u001b[0;32m----> 5\u001b[0m \u001b[38;5;28;01mfrom\u001b[39;00m\u001b[38;5;250m \u001b[39m\u001b[38;5;21;01multralytics\u001b[39;00m\u001b[38;5;21;01m.\u001b[39;00m\u001b[38;5;21;01mengine\u001b[39;00m\u001b[38;5;21;01m.\u001b[39;00m\u001b[38;5;21;01mmodel\u001b[39;00m\u001b[38;5;250m \u001b[39m\u001b[38;5;28;01mimport\u001b[39;00m Model\n\u001b[1;32m      7\u001b[0m \u001b[38;5;28;01mfrom\u001b[39;00m\u001b[38;5;250m \u001b[39m\u001b[38;5;21;01m.\u001b[39;00m\u001b[38;5;21;01mpredict\u001b[39;00m\u001b[38;5;250m \u001b[39m\u001b[38;5;28;01mimport\u001b[39;00m FastSAMPredictor\n\u001b[1;32m      8\u001b[0m \u001b[38;5;28;01mfrom\u001b[39;00m\u001b[38;5;250m \u001b[39m\u001b[38;5;21;01m.\u001b[39;00m\u001b[38;5;21;01mval\u001b[39;00m\u001b[38;5;250m \u001b[39m\u001b[38;5;28;01mimport\u001b[39;00m FastSAMValidator\n",
      "File \u001b[0;32m~/Desktop/New_Folder/Keerthanaa/Keerthii/MAR_2025/VA_research_task/NCS/NC_00/nc_env/lib/python3.10/site-packages/ultralytics/engine/model.py:11\u001b[0m\n\u001b[1;32m      8\u001b[0m \u001b[38;5;28;01mimport\u001b[39;00m\u001b[38;5;250m \u001b[39m\u001b[38;5;21;01mtorch\u001b[39;00m\n\u001b[1;32m      9\u001b[0m \u001b[38;5;28;01mfrom\u001b[39;00m\u001b[38;5;250m \u001b[39m\u001b[38;5;21;01mPIL\u001b[39;00m\u001b[38;5;250m \u001b[39m\u001b[38;5;28;01mimport\u001b[39;00m Image\n\u001b[0;32m---> 11\u001b[0m \u001b[38;5;28;01mfrom\u001b[39;00m\u001b[38;5;250m \u001b[39m\u001b[38;5;21;01multralytics\u001b[39;00m\u001b[38;5;21;01m.\u001b[39;00m\u001b[38;5;21;01mcfg\u001b[39;00m\u001b[38;5;250m \u001b[39m\u001b[38;5;28;01mimport\u001b[39;00m TASK2DATA, get_cfg, get_save_dir\n\u001b[1;32m     12\u001b[0m \u001b[38;5;28;01mfrom\u001b[39;00m\u001b[38;5;250m \u001b[39m\u001b[38;5;21;01multralytics\u001b[39;00m\u001b[38;5;21;01m.\u001b[39;00m\u001b[38;5;21;01mengine\u001b[39;00m\u001b[38;5;21;01m.\u001b[39;00m\u001b[38;5;21;01mresults\u001b[39;00m\u001b[38;5;250m \u001b[39m\u001b[38;5;28;01mimport\u001b[39;00m Results\n\u001b[1;32m     13\u001b[0m \u001b[38;5;28;01mfrom\u001b[39;00m\u001b[38;5;250m \u001b[39m\u001b[38;5;21;01multralytics\u001b[39;00m\u001b[38;5;21;01m.\u001b[39;00m\u001b[38;5;21;01mnn\u001b[39;00m\u001b[38;5;21;01m.\u001b[39;00m\u001b[38;5;21;01mtasks\u001b[39;00m\u001b[38;5;250m \u001b[39m\u001b[38;5;28;01mimport\u001b[39;00m attempt_load_one_weight, guess_model_task, yaml_model_load\n",
      "File \u001b[0;32m~/Desktop/New_Folder/Keerthanaa/Keerthii/MAR_2025/VA_research_task/NCS/NC_00/nc_env/lib/python3.10/site-packages/ultralytics/cfg/__init__.py:13\u001b[0m\n\u001b[1;32m     10\u001b[0m \u001b[38;5;28;01mimport\u001b[39;00m\u001b[38;5;250m \u001b[39m\u001b[38;5;21;01mcv2\u001b[39;00m\n\u001b[1;32m     12\u001b[0m \u001b[38;5;28;01mfrom\u001b[39;00m\u001b[38;5;250m \u001b[39m\u001b[38;5;21;01multralytics\u001b[39;00m\u001b[38;5;250m \u001b[39m\u001b[38;5;28;01mimport\u001b[39;00m __version__\n\u001b[0;32m---> 13\u001b[0m \u001b[38;5;28;01mfrom\u001b[39;00m\u001b[38;5;250m \u001b[39m\u001b[38;5;21;01multralytics\u001b[39;00m\u001b[38;5;21;01m.\u001b[39;00m\u001b[38;5;21;01mutils\u001b[39;00m\u001b[38;5;250m \u001b[39m\u001b[38;5;28;01mimport\u001b[39;00m (\n\u001b[1;32m     14\u001b[0m     ASSETS,\n\u001b[1;32m     15\u001b[0m     DEFAULT_CFG,\n\u001b[1;32m     16\u001b[0m     DEFAULT_CFG_DICT,\n\u001b[1;32m     17\u001b[0m     DEFAULT_CFG_PATH,\n\u001b[1;32m     18\u001b[0m     IS_VSCODE,\n\u001b[1;32m     19\u001b[0m     LOGGER,\n\u001b[1;32m     20\u001b[0m     RANK,\n\u001b[1;32m     21\u001b[0m     ROOT,\n\u001b[1;32m     22\u001b[0m     RUNS_DIR,\n\u001b[1;32m     23\u001b[0m     SETTINGS,\n\u001b[1;32m     24\u001b[0m     SETTINGS_FILE,\n\u001b[1;32m     25\u001b[0m     TESTS_RUNNING,\n\u001b[1;32m     26\u001b[0m     YAML,\n\u001b[1;32m     27\u001b[0m     IterableSimpleNamespace,\n\u001b[1;32m     28\u001b[0m     checks,\n\u001b[1;32m     29\u001b[0m     colorstr,\n\u001b[1;32m     30\u001b[0m     deprecation_warn,\n\u001b[1;32m     31\u001b[0m     vscode_msg,\n\u001b[1;32m     32\u001b[0m )\n\u001b[1;32m     34\u001b[0m \u001b[38;5;66;03m# Define valid solutions\u001b[39;00m\n\u001b[1;32m     35\u001b[0m SOLUTION_MAP \u001b[38;5;241m=\u001b[39m {\n\u001b[1;32m     36\u001b[0m     \u001b[38;5;124m\"\u001b[39m\u001b[38;5;124mcount\u001b[39m\u001b[38;5;124m\"\u001b[39m: \u001b[38;5;124m\"\u001b[39m\u001b[38;5;124mObjectCounter\u001b[39m\u001b[38;5;124m\"\u001b[39m,\n\u001b[1;32m     37\u001b[0m     \u001b[38;5;124m\"\u001b[39m\u001b[38;5;124mcrop\u001b[39m\u001b[38;5;124m\"\u001b[39m: \u001b[38;5;124m\"\u001b[39m\u001b[38;5;124mObjectCropper\u001b[39m\u001b[38;5;124m\"\u001b[39m,\n\u001b[0;32m   (...)\u001b[0m\n\u001b[1;32m     48\u001b[0m     \u001b[38;5;124m\"\u001b[39m\u001b[38;5;124mhelp\u001b[39m\u001b[38;5;124m\"\u001b[39m: \u001b[38;5;28;01mNone\u001b[39;00m,\n\u001b[1;32m     49\u001b[0m }\n",
      "File \u001b[0;32m~/Desktop/New_Folder/Keerthanaa/Keerthii/MAR_2025/VA_research_task/NCS/NC_00/nc_env/lib/python3.10/site-packages/ultralytics/utils/__init__.py:28\u001b[0m\n\u001b[1;32m     25\u001b[0m \u001b[38;5;28;01mimport\u001b[39;00m\u001b[38;5;250m \u001b[39m\u001b[38;5;21;01mtqdm\u001b[39;00m\n\u001b[1;32m     27\u001b[0m \u001b[38;5;28;01mfrom\u001b[39;00m\u001b[38;5;250m \u001b[39m\u001b[38;5;21;01multralytics\u001b[39;00m\u001b[38;5;250m \u001b[39m\u001b[38;5;28;01mimport\u001b[39;00m __version__\n\u001b[0;32m---> 28\u001b[0m \u001b[38;5;28;01mfrom\u001b[39;00m\u001b[38;5;250m \u001b[39m\u001b[38;5;21;01multralytics\u001b[39;00m\u001b[38;5;21;01m.\u001b[39;00m\u001b[38;5;21;01mutils\u001b[39;00m\u001b[38;5;21;01m.\u001b[39;00m\u001b[38;5;21;01mpatches\u001b[39;00m\u001b[38;5;250m \u001b[39m\u001b[38;5;28;01mimport\u001b[39;00m imread, imshow, imwrite, torch_load, torch_save  \u001b[38;5;66;03m# for patches\u001b[39;00m\n\u001b[1;32m     30\u001b[0m \u001b[38;5;66;03m# PyTorch Multi-GPU DDP Constants\u001b[39;00m\n\u001b[1;32m     31\u001b[0m RANK \u001b[38;5;241m=\u001b[39m \u001b[38;5;28mint\u001b[39m(os\u001b[38;5;241m.\u001b[39mgetenv(\u001b[38;5;124m\"\u001b[39m\u001b[38;5;124mRANK\u001b[39m\u001b[38;5;124m\"\u001b[39m, \u001b[38;5;241m-\u001b[39m\u001b[38;5;241m1\u001b[39m))\n",
      "File \u001b[0;32m~/Desktop/New_Folder/Keerthanaa/Keerthii/MAR_2025/VA_research_task/NCS/NC_00/nc_env/lib/python3.10/site-packages/ultralytics/utils/patches.py:90\u001b[0m\n\u001b[1;32m     86\u001b[0m     _imshow(winname\u001b[38;5;241m.\u001b[39mencode(\u001b[38;5;124m\"\u001b[39m\u001b[38;5;124municode_escape\u001b[39m\u001b[38;5;124m\"\u001b[39m)\u001b[38;5;241m.\u001b[39mdecode(), mat)\n\u001b[1;32m     89\u001b[0m \u001b[38;5;66;03m# PyTorch functions ----------------------------------------------------------------------------------------------------\u001b[39;00m\n\u001b[0;32m---> 90\u001b[0m _torch_load \u001b[38;5;241m=\u001b[39m \u001b[43mtorch\u001b[49m\u001b[38;5;241;43m.\u001b[39;49m\u001b[43mload\u001b[49m  \u001b[38;5;66;03m# copy to avoid recursion errors\u001b[39;00m\n\u001b[1;32m     91\u001b[0m _torch_save \u001b[38;5;241m=\u001b[39m torch\u001b[38;5;241m.\u001b[39msave\n\u001b[1;32m     94\u001b[0m \u001b[38;5;28;01mdef\u001b[39;00m\u001b[38;5;250m \u001b[39m\u001b[38;5;21mtorch_load\u001b[39m(\u001b[38;5;241m*\u001b[39margs, \u001b[38;5;241m*\u001b[39m\u001b[38;5;241m*\u001b[39mkwargs):\n",
      "\u001b[0;31mAttributeError\u001b[0m: module 'torch' has no attribute 'load'"
     ]
    }
   ],
   "source": []
  },
  {
   "cell_type": "code",
   "execution_count": 2,
   "id": "e6028972",
   "metadata": {},
   "outputs": [
    {
     "name": "stdout",
     "output_type": "stream",
     "text": [
      "Trimmed video saved to video/trimmed_output.mp4\n"
     ]
    }
   ],
   "source": [
    "import cv2\n",
    "\n",
    "def trim_video(input_path, output_path, trim_seconds):\n",
    "    cap = cv2.VideoCapture(input_path)\n",
    "    fps = cap.get(cv2.CAP_PROP_FPS)\n",
    "    total_frames = int(trim_seconds * fps)\n",
    "\n",
    "    width = int(cap.get(cv2.CAP_PROP_FRAME_WIDTH))\n",
    "    height = int(cap.get(cv2.CAP_PROP_FRAME_HEIGHT))\n",
    "    fourcc = cv2.VideoWriter_fourcc(*'mp4v')\n",
    "    out = cv2.VideoWriter(output_path, fourcc, fps, (width, height))\n",
    "\n",
    "    count = 0\n",
    "    while cap.isOpened() and count < total_frames:\n",
    "        ret, frame = cap.read()\n",
    "        if not ret:\n",
    "            break\n",
    "        out.write(frame)\n",
    "        count += 1\n",
    "\n",
    "    cap.release()\n",
    "    out.release()\n",
    "    print(f\"Trimmed video saved to {output_path}\")\n",
    "\n",
    "# Example\n",
    "trim_video(\"video/30-04-2025_17-40-40_to_17-43-47.mp4\", \"video/trimmed_output.mp4\", trim_seconds=162)\n"
   ]
  },
  {
   "cell_type": "code",
   "execution_count": null,
   "id": "97a7dd5b",
   "metadata": {},
   "outputs": [],
   "source": []
  },
  {
   "cell_type": "code",
   "execution_count": null,
   "id": "96fa0ed2",
   "metadata": {},
   "outputs": [],
   "source": []
  },
  {
   "cell_type": "code",
   "execution_count": null,
   "id": "78753dff",
   "metadata": {},
   "outputs": [],
   "source": []
  },
  {
   "cell_type": "code",
   "execution_count": null,
   "id": "2689837e",
   "metadata": {},
   "outputs": [],
   "source": [
    "# Python program to demonstrate\n",
    "# use of class method and static method.\n",
    "from datetime import date\n",
    "\n",
    "\n",
    "class Person:\n",
    "    # def __init__(self, name, age):\n",
    "    #     self.name = name\n",
    "    #     self.age = age\n",
    "\n",
    "    # a class method to create a Person object by birth year.\n",
    "    @classmethod\n",
    "    def fromBirthYear(cls, name):\n",
    "        return name\n",
    "\n",
    "    # a static method to check if a Person is adult or not.\n",
    "    @staticmethod\n",
    "    def isAdult(age):\n",
    "        return age > 18\n",
    "\n",
    "\n",
    "# person1 = Person('mayank', 21)\n",
    "# print(person1.name)\n",
    "p = Person()\n",
    "person2 = p.fromBirthYear(\"t\")\n"
   ]
  },
  {
   "cell_type": "code",
   "execution_count": null,
   "id": "0d3b681b",
   "metadata": {},
   "outputs": [],
   "source": [
    "class l:\n",
    "    def __init__(self):\n",
    "        pass\n",
    "\n",
    "    def l1(self,name):\n",
    "        self.name = name\n",
    "        return f'Hai {self.name}'\n",
    "    \n",
    "    def l2(self, last):\n",
    "        self.last = last\n",
    "        self.name = \"k\"\n",
    "        return self.name+self.last\n"
   ]
  },
  {
   "cell_type": "code",
   "execution_count": null,
   "id": "5cc0e885",
   "metadata": {},
   "outputs": [
    {
     "ename": "TypeError",
     "evalue": "keerthanaa.__init__() missing 1 required positional argument: 'age'",
     "output_type": "error",
     "traceback": [
      "\u001b[0;31m---------------------------------------------------------------------------\u001b[0m",
      "\u001b[0;31mTypeError\u001b[0m                                 Traceback (most recent call last)",
      "Cell \u001b[0;32mIn[13], line 16\u001b[0m\n\u001b[1;32m     11\u001b[0m         \u001b[38;5;28;01mreturn\u001b[39;00m \u001b[38;5;28mself\u001b[39m\u001b[38;5;241m.\u001b[39mf1()\n\u001b[1;32m     14\u001b[0m obj \u001b[38;5;241m=\u001b[39m keerthanaa(\u001b[38;5;124m\"\u001b[39m\u001b[38;5;124mKD\u001b[39m\u001b[38;5;124m\"\u001b[39m, \u001b[38;5;241m25\u001b[39m)\n\u001b[0;32m---> 16\u001b[0m \u001b[43mobj\u001b[49m\u001b[38;5;241;43m.\u001b[39;49m\u001b[43mf1\u001b[49m\u001b[43m(\u001b[49m\u001b[38;5;124;43m\"\u001b[39;49m\u001b[38;5;124;43mk\u001b[39;49m\u001b[38;5;124;43m\"\u001b[39;49m\u001b[43m)\u001b[49m\n",
      "Cell \u001b[0;32mIn[13], line 8\u001b[0m, in \u001b[0;36mkeerthanaa.f1\u001b[0;34m(cls, name)\u001b[0m\n\u001b[1;32m      6\u001b[0m \u001b[38;5;129m@classmethod\u001b[39m\n\u001b[1;32m      7\u001b[0m \u001b[38;5;28;01mdef\u001b[39;00m\u001b[38;5;250m \u001b[39m\u001b[38;5;21mf1\u001b[39m(\u001b[38;5;28mcls\u001b[39m,name):\n\u001b[0;32m----> 8\u001b[0m     \u001b[38;5;28;01mreturn\u001b[39;00m \u001b[38;5;28;43mcls\u001b[39;49m\u001b[43m(\u001b[49m\u001b[43mname\u001b[49m\u001b[43m)\u001b[49m\n",
      "\u001b[0;31mTypeError\u001b[0m: keerthanaa.__init__() missing 1 required positional argument: 'age'"
     ]
    }
   ],
   "source": [
    "class keerthanaa:\n",
    "    def __init__(self, name, age):\n",
    "        self.name = name\n",
    "        self.age = age\n",
    "    \n",
    "    @classmethod\n",
    "    def f1(cls,name):\n",
    "        return name\n",
    "    \n",
    "    def f2(self):\n",
    "        return self.f1()\n",
    "\n",
    "\n",
    "obj = keerthanaa(\"KD\", 25)\n",
    "\n",
    "obj.f1(\"k\")"
   ]
  },
  {
   "cell_type": "code",
   "execution_count": null,
   "id": "da0f7b93",
   "metadata": {},
   "outputs": [],
   "source": []
  },
  {
   "cell_type": "code",
   "execution_count": null,
   "id": "5cb1f3cf",
   "metadata": {},
   "outputs": [],
   "source": []
  },
  {
   "cell_type": "code",
   "execution_count": null,
   "id": "56cdb8d5",
   "metadata": {},
   "outputs": [],
   "source": []
  }
 ],
 "metadata": {
  "kernelspec": {
   "display_name": "nc_env",
   "language": "python",
   "name": "python3"
  },
  "language_info": {
   "codemirror_mode": {
    "name": "ipython",
    "version": 3
   },
   "file_extension": ".py",
   "mimetype": "text/x-python",
   "name": "python",
   "nbconvert_exporter": "python",
   "pygments_lexer": "ipython3",
   "version": "3.10.12"
  }
 },
 "nbformat": 4,
 "nbformat_minor": 5
}
